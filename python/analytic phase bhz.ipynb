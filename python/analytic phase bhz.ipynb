{
 "cells": [
  {
   "cell_type": "code",
   "execution_count": 7,
   "metadata": {
    "scrolled": true
   },
   "outputs": [
    {
     "data": {
      "application/vnd.jupyter.widget-view+json": {
       "model_id": "1885ae463a7a4dcabf23b1fb72435a05",
       "version_major": 2,
       "version_minor": 0
      },
      "text/plain": [
       "interactive(children=(FloatSlider(value=0.35, description='vx', max=1.0, step=0.05), Output()), _dom_classes=(…"
      ]
     },
     "metadata": {},
     "output_type": "display_data"
    },
    {
     "data": {
      "text/plain": [
       "<function __main__.plotter(vx=0.35)>"
      ]
     },
     "execution_count": 7,
     "metadata": {},
     "output_type": "execute_result"
    }
   ],
   "source": [
    "import numpy as np\n",
    "from ipywidgets import interact\n",
    "import matplotlib.pyplot as plt\n",
    "from matplotlib import rcParams\n",
    "rcParams['figure.figsize'] = 8, 6\n",
    "\n",
    "'''\n",
    "Program to plot analytical results that make up the anisotropic generalized BHZ model. See essay.pdf for more about how these equations came about\n",
    "Runs much faster than numerical algorithms that are based on purely the Hamiltonian, as expected.\n",
    "'''\n",
    "\n",
    "\n",
    "def plotter(vx=0.35):\n",
    "    \n",
    "    cres = 100\n",
    "    ures = 100\n",
    "    \n",
    "    has_weyl = np.zeros([cres, ures])\n",
    "    \n",
    "    #func returns whether the (C, u) pair is inside the Weyl region or not \n",
    "    def func(c, u):\n",
    "        if(-u**2 + 2 + 2*vx**2 -2*c**2 < 0 and (u**2/2 + c**2 < 1 + vx**2)): return 0.5\n",
    "        if(-u**2 + 2 + 2*vx**2 -2*c**2 < 0): return 0\n",
    "        \n",
    "        A = np.sqrt(-u**2 + 2 + 2*vx**2 -2*c**2)\n",
    "        if (np.abs(1/(2*vx)*(-u + A))<=1 and np.abs(1/2*(u + A))<=1) and (u**2/2 + c**2 < 1 + vx**2): return 1\n",
    "        if (np.abs(1/(2*vx)*(-u - A))<=1 and np.abs(1/2*(u - A))<=1) and (u**2/2 + c**2 < 1 + vx**2): return 1         \n",
    "        else: return 0\n",
    "        \n",
    "    cvals = np.linspace(0, 1.25, cres)\n",
    "    uvals = np.linspace(-2, 2, ures)\n",
    "    \n",
    "    \n",
    "    print(vx)\n",
    "    \n",
    "    for c in range(cres):\n",
    "        for u in range(ures):\n",
    "            \n",
    "            has_weyl[c, u] = func(cvals[c], uvals[u])\n",
    "                    \n",
    "    #plot the phases                \n",
    "    plt.pcolormesh(uvals, cvals, has_weyl)\n",
    "    #plot analytical curves that bound these phases (see essay.pdf)\n",
    "    plt.plot(uvals, np.real(np.sqrt(vx**2-(uvals+1)**2)))\n",
    "    plt.plot(uvals, np.real(np.sqrt(vx**2-(uvals-1)**2)))\n",
    "    plt.plot(uvals, np.real(np.sqrt(1**2-(uvals-vx)**2)))\n",
    "    plt.plot(uvals, np.real(np.sqrt(1**2-(uvals+vx)**2)))\n",
    "    plt.plot(uvals, np.sqrt((2*vx**2-uvals**2+2)/2), linewidth = 3)\n",
    "    plt.colorbar()\n",
    "    plt.xlabel(\"u\")\n",
    "    plt.ylabel(\"C\")\n",
    "    \n",
    "    plt.savefig(\"analytic_weylzones_vx1.pdf\")\n",
    "    plt.show()\n",
    "    \n",
    "    \n",
    "    \n",
    "    \n",
    "interact(plotter, vx=(0, 1, 0.05))"
   ]
  },
  {
   "cell_type": "code",
   "execution_count": null,
   "metadata": {},
   "outputs": [],
   "source": []
  }
 ],
 "metadata": {
  "kernelspec": {
   "display_name": "Python 3",
   "language": "python",
   "name": "python3"
  },
  "language_info": {
   "codemirror_mode": {
    "name": "ipython",
    "version": 3
   },
   "file_extension": ".py",
   "mimetype": "text/x-python",
   "name": "python",
   "nbconvert_exporter": "python",
   "pygments_lexer": "ipython3",
   "version": "3.8.2"
  }
 },
 "nbformat": 4,
 "nbformat_minor": 4
}
