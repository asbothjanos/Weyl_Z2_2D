{
 "cells": [
  {
   "cell_type": "code",
   "execution_count": 4,
   "metadata": {
    "scrolled": false
   },
   "outputs": [
    {
     "data": {
      "application/vnd.jupyter.widget-view+json": {
       "model_id": "d10f7f6cb8b44ba2b2b2e2588962da00",
       "version_major": 2,
       "version_minor": 0
      },
      "text/plain": [
       "interactive(children=(FloatSlider(value=1.0, description='CC', max=4.0, step=0.01), IntSlider(value=10, descri…"
      ]
     },
     "metadata": {},
     "output_type": "display_data"
    },
    {
     "data": {
      "text/plain": [
       "<function __main__.plotter(CC=1, kres=10, u_res=10, break_inv_1=0, break_inv_2=0, break_time_rev=0, u_min=-2.5, u_max=4, vx=0.8)>"
      ]
     },
     "execution_count": 4,
     "metadata": {},
     "output_type": "execute_result"
    }
   ],
   "source": [
    "import numpy as np\n",
    "import matplotlib.pyplot as plt\n",
    "from matplotlib.pyplot import plot\n",
    "from numpy import cos, sin, exp, min, max\n",
    "from numpy.linalg import eigh\n",
    "from ipywidgets import interact\n",
    "import matplotlib\n",
    "from matplotlib import rcParams\n",
    "pi = np.pi\n",
    "\n",
    "'''\n",
    "General program to track Weyl nodes in reciprocal space in the generalized anizotropic BHZ model\n",
    "you can set u_min and u_max for a fixed C to track the Weyl nodes in that regime. You can also modify vx (the anisotropy parameter,\n",
    "i.e. the prefactor of hopping in the x/kx direction). kres is the resolution of the BZ, u_res is the number of datapoints\n",
    "that it collects between u_min and u_max. C is the parameter of C1, i.e. the ty*sy coupling term\n",
    "'''\n",
    "\n",
    "rcParams['figure.figsize'] = 6, 5\n",
    "rcParams.update({'font.size': 10})\n",
    "vx=0.8\n",
    "\n",
    "#U_4 is the matrix we use to bring H_BHZ into the chiral basis\n",
    "U_4 = 1/np.sqrt(2.)*np.array([[1, 0, 0, -1j],[0, 1, -1j, 0],[0, 1, 1j, 0],[1, 0, 0, 1j]])\n",
    "   \n",
    "matplotlib.rcParams['figure.dpi'] = 100\n",
    "def plotter(CC = 1, kres = 10, u_res = 10, break_inv_1 = 0, break_inv_2=0, break_time_rev=0, u_min = -2.5, u_max = 4, vx=0.8): \n",
    "    uvals = np.linspace(u_min, u_max, u_res)\n",
    "    emin, emax = [], []\n",
    "    # Resolution of half of Brillouin zone: kres\n",
    "    Q = np.zeros([2*kres, 2*kres])\n",
    "    #putting together the Hamiltonian - the first two indeces are kx and ky to avoid an extra two for loops\n",
    "    for u in uvals:\n",
    "        HH = np.zeros((2*kres, 2*kres, 4, 4), dtype=complex)\n",
    "        kvals = np.linspace(-pi, pi, 2*kres, endpoint=False)\n",
    "        ky, kx = np.meshgrid(kvals, kvals)\n",
    "        HH[:, :, 0, 0] = u+vx*cos(kx)+cos(ky)\n",
    "        HH[:, :, 0, 1] = vx*sin(kx)-1.j*sin(ky)\n",
    "        HH[:, :, 1, 0] =  HH[:, :, 0, 1].conj() \n",
    "        HH[:, :, 1, 1] = -HH[:, :, 0, 0]\n",
    "        HH[:, :, 2, 2] = u+vx*cos(kx)+cos(ky)\n",
    "        HH[:, :, 2, 3] = -vx*sin(kx)-1.j*sin(ky)\n",
    "        HH[:, :, 3, 2] =  HH[:, :, 2, 3].conj() \n",
    "        HH[:, :, 3, 3] = -HH[:, :, 2, 2]\n",
    "        HH[:, :, 0, 3] = -CC\n",
    "        HH[:, :, 1, 2] = -HH[:, :, 0, 3] \n",
    "        HH[:, :, 2, 1] = HH[:, :, 1, 2].conj()\n",
    "        HH[:, :, 3, 0] = HH[:, :, 0, 3].conj()\n",
    "        \n",
    "        #inv symm breaking: sig_x tau_x sin(k)\n",
    "        \n",
    "        HH[:, :, 0, 3] += break_inv_1*(sin(kx)+sin(ky))\n",
    "        HH[:, :, 1, 2] += break_inv_1*(sin(kx)+sin(ky))\n",
    "        HH[:, :, 2, 1] += break_inv_1*(sin(kx)+sin(ky))\n",
    "        HH[:, :, 3, 0] += break_inv_1*(sin(kx)+sin(ky))\n",
    "        \n",
    "        #inv symm breaking: sig_0 tau_z sin(k)\n",
    "        \n",
    "        HH[:, :, 0, 0] += break_inv_2* (sin(kx)+sin(ky))\n",
    "        HH[:, :, 1, 1] += break_inv_2* (sin(kx)+sin(ky))\n",
    "        HH[:, :, 2, 2] -= break_inv_2* (sin(kx)+sin(ky))\n",
    "        HH[:, :, 3, 2] -= break_inv_2* (sin(kx)+sin(ky))\n",
    "        \n",
    "        if(break_time_rev == 1): #tau_0 sig_z sin(k)\n",
    "            HH[:, :, 0, 0] += sin(kx)+sin(ky)\n",
    "            HH[:, :, 1, 1] -= sin(kx)+sin(ky)\n",
    "            HH[:, :, 2, 2] += sin(kx)+sin(ky)\n",
    "            HH[:, :, 3, 2] -= sin(kx)+sin(ky)\n",
    "        \n",
    "                \n",
    "        #HH_antidiag is the chiral form\n",
    "        HH_antidiag = (np.matmul(np.matmul(U_4,HH), (U_4.conj().T)))\n",
    "        dett = HH_antidiag[:, :, 0, 2]*HH_antidiag[:, :, 1, 3] \\\n",
    "               - HH_antidiag[:, :, 0, 3]*HH_antidiag[:, :, 1, 2]\n",
    "        #print(HH_antidiag[0, 0])\n",
    "        #print(HH_antidiag[1, 2])\n",
    "        #print(HH_antidiag[4, 6]) #check if block off-diagonalization worked\n",
    "        #print(HH_antidiag[17, 12])\n",
    "        \n",
    "        dettx  = np.roll(dett, 1, axis=0)\n",
    "        detty  = np.roll(dett, 1, axis=1)\n",
    "        dettxy = np.roll(np.roll(dett, 1, axis=1), 1, axis=0)\n",
    "    \n",
    "        Q += (np.angle(dett/dettx) + np.angle(dettx/dettxy)  \\\n",
    "            + np.angle(dettxy/detty) + np.angle(detty/dett)) /2/pi\n",
    "        \n",
    "        \n",
    "        \n",
    "    #we are only interested in the sign of the total summed chiralities, as otherwise if a node moves slowly in one\n",
    "    #region, then it will be coloured differently if the same node moves faster in another region.\n",
    "    sign = np.zeros([2*kres, 2*kres])\n",
    "    \n",
    "    for i in range(0, 2*kres):\n",
    "        for j in range(0, 2*kres):\n",
    "            if(abs(Q[i, j])<0.1): sign[i, j] = 0\n",
    "            else: sign[i, j] = np.sign(Q[i, j])\n",
    "\n",
    "    plt.pcolormesh(np.linspace(-1, 1, 2*kres, endpoint=False),np.linspace(-1, 1, 2*kres, endpoint=False), sign.T)\n",
    "    x_label = r\"$k_x$\" +\" in units of \" \"$\\pi$\"\n",
    "    y_label = r\"$k_y$\" +\" in units of \" \"$\\pi$\"\n",
    "    plt.xlabel(x_label)\n",
    "    plt.ylabel(y_label)\n",
    "    plt.title(\"Tracking Weyl nodes in the Brillouin zone\")\n",
    "    #plt.title(str(\"bi1: \" + str(break_inv_1) + \" bi2: \" + str(break_inv_2) + \" CC is\" + str(CC)))\n",
    "    plt.colorbar()\n",
    "    plt.savefig(\"cover.pdf\")\n",
    "    plt.show()\n",
    "interact(plotter, CC=(0, 4, 0.01), kres = (10, 310, 20), u_res = (40, 8000, 80),\\\n",
    "         break_inv_1 = (0, 1, 0.1), break_inv_2 = (0, 1, 0.1), break_time_rev = (0, 1, 1), u_min = (-3, 3, 0.005), u_max = (-3, 3, 0.005), vx=(0.1, 1, 0.05))"
   ]
  },
  {
   "cell_type": "code",
   "execution_count": 5,
   "metadata": {},
   "outputs": [
    {
     "data": {
      "text/plain": [
       "<Figure size 600x500 with 0 Axes>"
      ]
     },
     "metadata": {},
     "output_type": "display_data"
    }
   ],
   "source": []
  },
  {
   "cell_type": "code",
   "execution_count": 5,
   "metadata": {
    "scrolled": false
   },
   "outputs": [
    {
     "data": {
      "application/vnd.jupyter.widget-view+json": {
       "model_id": "b4b112d648f045b281ac3301c04fba8b",
       "version_major": 2,
       "version_minor": 0
      },
      "text/plain": [
       "interactive(children=(FloatSlider(value=-0.5, description='u', max=2.5, min=-2.5, step=0.01), IntSlider(value=…"
      ]
     },
     "metadata": {},
     "output_type": "display_data"
    },
    {
     "data": {
      "text/plain": [
       "<function __main__.plotter(u=-0.5, kres=10, CC_res=10, break_inv_1=0, break_inv_2=0, break_time_rev=0, CC_min=-2.5, CC_max=4)>"
      ]
     },
     "execution_count": 5,
     "metadata": {},
     "output_type": "execute_result"
    }
   ],
   "source": [
    "'''\n",
    "same code as above, but instead of keeping C fixed and varying u in a regime,\n",
    "here we: keep u fixed and vary C from C_min to C_max\n",
    "'''\n",
    "\n",
    "import numpy as np\n",
    "import matplotlib.pyplot as plt\n",
    "from matplotlib.pyplot import plot\n",
    "from numpy import cos, sin, exp, min, max\n",
    "from numpy.linalg import eigh\n",
    "from ipywidgets import interact\n",
    "import matplotlib\n",
    "from matplotlib import rcParams\n",
    "pi = np.pi\n",
    "\n",
    "rcParams['figure.figsize'] = 6, 5\n",
    "rcParams.update({'font.size': 10})\n",
    "\n",
    "U_4 = 1/np.sqrt(2.)*np.array([[1, 0, 0, -1j],[0, 1, -1j, 0],[0, 1, 1j, 0],[1, 0, 0, 1j]])\n",
    "   \n",
    "matplotlib.rcParams['figure.dpi'] = 100\n",
    "def plotter(u = -0.5,  kres = 10, CC_res = 10, break_inv_1 = 0, break_inv_2=0, break_time_rev=0, CC_min = -2.5, CC_max = 4): \n",
    "    \n",
    "    \n",
    "    CCvals = np.linspace(CC_min, CC_max, CC_res)\n",
    "    emin, emax = [], []\n",
    "    # Resolution of half of Brillouin zone: kres\n",
    "    Q = np.zeros([2*kres, 2*kres])\n",
    "    for CC in CCvals:\n",
    "        HH = np.zeros((2*kres, 2*kres, 4, 4), dtype=complex)\n",
    "        kvals = np.linspace(-pi, pi, 2*kres, endpoint=False)\n",
    "        ky, kx = np.meshgrid(kvals, kvals)\n",
    "        HH[:, :, 0, 0] = u+cos(kx)+cos(ky)\n",
    "        HH[:, :, 0, 1] = sin(kx)-1.j*sin(ky)\n",
    "        HH[:, :, 1, 0] =  HH[:, :, 0, 1].conj() \n",
    "        HH[:, :, 1, 1] = -HH[:, :, 0, 0]\n",
    "        HH[:, :, 2, 2] = u+cos(kx)+cos(ky)\n",
    "        HH[:, :, 2, 3] = -sin(kx)-1.j*sin(ky)\n",
    "        HH[:, :, 3, 2] =  HH[:, :, 2, 3].conj() \n",
    "        HH[:, :, 3, 3] = -HH[:, :, 2, 2]\n",
    "        HH[:, :, 0, 3] = -CC\n",
    "        HH[:, :, 1, 2] = -HH[:, :, 0, 3] \n",
    "        HH[:, :, 2, 1] = HH[:, :, 1, 2].conj()\n",
    "        HH[:, :, 3, 0] = HH[:, :, 0, 3].conj()\n",
    "        \n",
    "        #inv symm breaking: sig_x tau_x sin(k)\n",
    "        \n",
    "        HH[:, :, 0, 3] += break_inv_1*(sin(kx)+sin(ky))\n",
    "        HH[:, :, 1, 2] += break_inv_1*(sin(kx)+sin(ky))\n",
    "        HH[:, :, 2, 1] += break_inv_1*(sin(kx)+sin(ky))\n",
    "        HH[:, :, 3, 0] += break_inv_1*(sin(kx)+sin(ky))\n",
    "        \n",
    "        #inv symm breaking: sig_0 tau_z sin(k)\n",
    "        \n",
    "        HH[:, :, 0, 0] += break_inv_2* (sin(kx)+sin(ky))\n",
    "        HH[:, :, 1, 1] += break_inv_2* (sin(kx)+sin(ky))\n",
    "        HH[:, :, 2, 2] -= break_inv_2* (sin(kx)+sin(ky))\n",
    "        HH[:, :, 3, 2] -= break_inv_2* (sin(kx)+sin(ky))\n",
    "        \n",
    "        if(break_time_rev == 1): #tau_0 sig_z sin(k)\n",
    "            HH[:, :, 0, 0] += sin(kx)+sin(ky)\n",
    "            HH[:, :, 1, 1] -= sin(kx)+sin(ky)\n",
    "            HH[:, :, 2, 2] += sin(kx)+sin(ky)\n",
    "            HH[:, :, 3, 2] -= sin(kx)+sin(ky)\n",
    "        \n",
    "                \n",
    "       \n",
    "        HH_antidiag = (np.matmul(np.matmul(U_4,HH), (U_4.conj().T)))\n",
    "        dett = HH_antidiag[:, :, 0, 2]*HH_antidiag[:, :, 1, 3] \\\n",
    "               - HH_antidiag[:, :, 0, 3]*HH_antidiag[:, :, 1, 2]\n",
    "        #print(HH_antidiag[0, 0])\n",
    "        #print(HH_antidiag[1, 2])\n",
    "        #print(HH_antidiag[4, 6]) #check if block off-diagonalization worked\n",
    "        #print(HH_antidiag[17, 12])\n",
    "        \n",
    "        dettx  = np.roll(dett, 1, axis=0)\n",
    "        detty  = np.roll(dett, 1, axis=1)\n",
    "        dettxy = np.roll(np.roll(dett, 1, axis=1), 1, axis=0)\n",
    "    \n",
    "        Q += (np.angle(dett/dettx) + np.angle(dettx/dettxy)  \\\n",
    "            + np.angle(dettxy/detty) + np.angle(detty/dett)) /2/pi\n",
    "        \n",
    "        \n",
    "        \n",
    "        #ee, vv = eigh(HH)\n",
    "        #eee = ee.flatten()\n",
    "        #emin.append(min(eee[eee>0]))\n",
    "        #emax.append(max(eee[eee<0]))\n",
    "    #plot(uvals, emin)\n",
    "    #plot(uvals, emax)\n",
    "    #plt.show()\n",
    "\n",
    "    sign = np.zeros([2*kres, 2*kres])\n",
    "    \n",
    "    for i in range(0, 2*kres):\n",
    "        for j in range(0, 2*kres):\n",
    "            if(abs(Q[i, j])<0.1): sign[i, j] = 0\n",
    "            else: sign[i, j] = np.sign(Q[i, j])\n",
    "\n",
    "    plt.pcolormesh(np.linspace(-1, 1, 2*kres, endpoint=False),np.linspace(-1, 1, 2*kres, endpoint=False), sign.T)\n",
    "    x_label = r\"$k_x$\" +\" in units of \" \"$\\pi$\"\n",
    "    y_label = r\"$k_y$\" +\" in units of \" \"$\\pi$\"\n",
    "    plt.xlabel(x_label)\n",
    "    plt.ylabel(y_label)\n",
    "    plt.title(\"Tracking Weyl nodes in the BZ\")\n",
    "    #plt.title(str(\"bi1: \" + str(break_inv_1) + \" bi2: \" + str(break_inv_2) + \" CC is\" + str(CC)))\n",
    "    #plt.colorbar()\n",
    "    plt.savefig(\"nodertackerrr3v.png\")\n",
    "    plt.show()\n",
    "interact(plotter, u=(-2.5, 2.5, 0.01), kres = (10, 100, 10), CC_res = (40, 600, 80),\\\n",
    "         break_inv_1 = (0, 1, 0.1), break_inv_2 = (0, 1, 0.1), break_time_rev = (0, 1, 1), CC_min = (0, 2, 0.05), CC_max = (0, 2, 0.05))"
   ]
  },
  {
   "cell_type": "code",
   "execution_count": null,
   "metadata": {},
   "outputs": [],
   "source": []
  },
  {
   "cell_type": "code",
   "execution_count": null,
   "metadata": {},
   "outputs": [],
   "source": []
  },
  {
   "cell_type": "code",
   "execution_count": null,
   "metadata": {},
   "outputs": [],
   "source": []
  }
 ],
 "metadata": {
  "kernelspec": {
   "display_name": "Python 3",
   "language": "python",
   "name": "python3"
  },
  "language_info": {
   "codemirror_mode": {
    "name": "ipython",
    "version": 3
   },
   "file_extension": ".py",
   "mimetype": "text/x-python",
   "name": "python",
   "nbconvert_exporter": "python",
   "pygments_lexer": "ipython3",
   "version": "3.8.2"
  }
 },
 "nbformat": 4,
 "nbformat_minor": 4
}
