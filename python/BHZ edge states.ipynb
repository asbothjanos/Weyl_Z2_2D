{
 "cells": [
  {
   "cell_type": "code",
   "execution_count": null,
   "metadata": {},
   "outputs": [],
   "source": [
    "'''\n",
    "Dispersion of generalized BHZ model along ky and kx. Requires Fourier transforming along one edge only (i.e. along x for ky and y along kx)\n",
    "unit cells is number of 4x4 systems, i.e. hamiltonian has dimensions 4*unit_cells\n",
    "unit_edge: how many of the first and last unit cells to sum when calculating weight of states on the edge to\n",
    "determine which states are edge states\n",
    "\n",
    "'''"
   ]
  },
  {
   "cell_type": "code",
   "execution_count": 5,
   "metadata": {
    "scrolled": false
   },
   "outputs": [
    {
     "data": {
      "application/vnd.jupyter.widget-view+json": {
       "model_id": "63d531cdfe9c424baa07bf3ac1a0e9d7",
       "version_major": 2,
       "version_minor": 0
      },
      "text/plain": [
       "interactive(children=(FloatSlider(value=1.2, description='u', max=4.0), IntSlider(value=12, description='unit_…"
      ]
     },
     "metadata": {},
     "output_type": "display_data"
    },
    {
     "data": {
      "text/plain": [
       "<function __main__.plotter(u=1.2, unit_cells=12, kres=80, C=1, unit_edge=2)>"
      ]
     },
     "execution_count": 5,
     "metadata": {},
     "output_type": "execute_result"
    }
   ],
   "source": [
    "#dispersion along ky!!!\n",
    "\n",
    "import numpy as np\n",
    "import matplotlib.pyplot as plt\n",
    "from matplotlib import rcParams\n",
    "rcParams['figure.figsize'] = 8, 6\n",
    "pi=np.pi\n",
    "from ipywidgets import interact\n",
    "\n",
    "def plotter(u = 1.2, unit_cells=12, kres = 80, C = 1, unit_edge = 2):\n",
    "    \n",
    "    edge_e = []\n",
    "    edge_k = []\n",
    "    \n",
    "    \n",
    "    \n",
    "    pauli0 = [[1, 0],[ 0, 1]]\n",
    "    paulix = [[0, 1], [ 1, 0]]\n",
    "    pauliy = [[0, -1j],[ 1j, 0]]\n",
    "    pauliz = [[1, 0 ],[ 0, -1]]\n",
    "\n",
    "    t0sz = np.kron(pauli0, pauliz)\n",
    "    t0sy = np.kron(pauli0, pauliy)\n",
    "    tysy = np.kron(pauliy, pauliy) #predefine helper matrices from Pauli matrices\n",
    "    t0sz = np.kron(pauli0, pauliz)\n",
    "    tzsx = np.kron(pauliz, paulix)\n",
    "\n",
    "    #print(t0sz)\n",
    "    \n",
    "    mm = np.eye(unit_cells)  # |m><m|\n",
    "    #print(mm)\n",
    "        \n",
    "    m1m = np.eye(unit_cells, unit_cells,  1) # |m+1><m|\n",
    "\n",
    "    mm1 = m1m.T  # \\m><m+1\\\n",
    "        \n",
    "    \n",
    "    kyvals = np.linspace(0, pi, kres)\n",
    "    eigvals = np.zeros([kres, 4*unit_cells]) #factor of 4 due to 4 eigenvalues of a 4x4 matrix\n",
    "\n",
    "    for kno in range(kres):\n",
    "        ky = kyvals[kno]\n",
    "        H_1 = (u + np.cos(ky))*np.kron(mm, t0sz) + np.sin(ky)*np.kron(mm, t0sy) + C*np.kron(mm, tysy)\n",
    "        H_2 = 0.5 * np.kron(m1m + mm1, t0sz)\n",
    "        H_3 = -0.5j *np.kron(mm1 - m1m, tzsx)\n",
    "        H = H_1 + H_2 + H_3 #build up Hamiltonian\n",
    "    \n",
    "        \n",
    "        \n",
    "        vals, vects = np.linalg.eigh(H)\n",
    "        vects = vects.T\n",
    "        \n",
    "        #calculate if any eigenstates are localized to edges\n",
    "        for h in range(4*unit_cells):\n",
    "                        \n",
    "            weight_l = np.sum(np.abs(vects[:4*unit_edge, h])**2) #first few unit cells\n",
    "            weight_r = np.sum(np.abs(vects[-4*unit_edge:, h])**2) #last few unit cells\n",
    "        \n",
    "            if weight_l + weight_r > 0.6: edge_e.append(vals[h]), edge_k.append(ky) #save edge states\n",
    "            \n",
    "        eigvals[kno, :] = vals\n",
    "                                \n",
    "\n",
    "    for i in range(4*unit_cells) :   \n",
    "        plt.scatter(kyvals, eigvals[:,i], s=1, c='black');\n",
    "    \n",
    "    for left in range(len(edge_k)):\n",
    "        plt.scatter(edge_k, edge_e, c= \"yellow\") #plot edge states onto all states with different color\n",
    "\n",
    "    \n",
    "    plt.show()\n",
    "interact(plotter, u = (0, 4, 0.1), unit_cells = (4, 200, 2), kres = (5, 400, 5), C = (0, 2, 0.1), unit_edge = (0, 80, 1))"
   ]
  },
  {
   "cell_type": "code",
   "execution_count": null,
   "metadata": {},
   "outputs": [],
   "source": [
    "'''for documentation see the code of ky, just above this'''"
   ]
  },
  {
   "cell_type": "code",
   "execution_count": 7,
   "metadata": {},
   "outputs": [
    {
     "data": {
      "application/vnd.jupyter.widget-view+json": {
       "model_id": "a22a6d395a504fb18180a140b22dd59b",
       "version_major": 2,
       "version_minor": 0
      },
      "text/plain": [
       "interactive(children=(FloatSlider(value=1.2, description='u', max=4.0), IntSlider(value=12, description='unit_…"
      ]
     },
     "metadata": {},
     "output_type": "display_data"
    },
    {
     "data": {
      "text/plain": [
       "<function __main__.plotter(u=1.2, unit_cells=12, kres=80, C=1, unit_edge=2)>"
      ]
     },
     "execution_count": 7,
     "metadata": {},
     "output_type": "execute_result"
    }
   ],
   "source": [
    "#dispersion along kx!!!\n",
    "\n",
    "import numpy as np\n",
    "import matplotlib.pyplot as plt\n",
    "from matplotlib import rcParams\n",
    "rcParams['figure.figsize'] = 8, 6\n",
    "pi=np.pi\n",
    "from ipywidgets import interact\n",
    "\n",
    "def plotter(u = 1.2, unit_cells=12, kres = 80, C = 1, unit_edge = 2):\n",
    "    \n",
    "    edge_e = []\n",
    "    edge_k = []\n",
    "     \n",
    "    pauli0 = [[1, 0],[ 0, 1]]\n",
    "    paulix = [[0, 1], [ 1, 0]]\n",
    "    pauliy = [[0, -1j],[ 1j, 0]]\n",
    "    pauliz = [[1, 0 ],[ 0, -1]]\n",
    "\n",
    "    t0sz = np.kron(pauli0, pauliz)\n",
    "    t0sy = np.kron(pauli0, pauliy)\n",
    "    tysy = np.kron(pauliy, pauliy)\n",
    "    t0sz = np.kron(pauli0, pauliz)\n",
    "    tzsx = np.kron(pauliz, paulix)\n",
    "\n",
    "    mm = np.eye(unit_cells)\n",
    "    #print(mm)\n",
    "        \n",
    "    m1m = np.eye(unit_cells, unit_cells,  1)\n",
    "\n",
    "    mm1 = m1m.T\n",
    "      \n",
    "    \n",
    "    kxvals = np.linspace(0, pi, kres)\n",
    "    eigvals = np.zeros([kres, 4*unit_cells])\n",
    "\n",
    "    for kno in range(kres):\n",
    "        kx = kxvals[kno]\n",
    "        \n",
    "        H_1 = (u + np.cos(kx))*np.kron(mm, t0sz) + np.sin(kx)*np.kron(mm, tzsx) + C*np.kron(mm, tysy)\n",
    "        H_2 = 0.5 * np.kron(m1m + mm1, t0sz)\n",
    "        H_3 = 0.5j *np.kron(mm1 - m1m, t0sy)\n",
    "        H = H_1 + H_2 + H_3\n",
    "        \n",
    "\n",
    "        vals, vects = np.linalg.eigh(H)\n",
    "        eigvals[kno, :] = vals\n",
    "      \n",
    "    \n",
    "        for h in range(4*unit_cells):\n",
    "                        \n",
    "            weight_l = np.sum(np.abs(vects[:4*unit_edge, h])**2)\n",
    "            weight_r = np.sum(np.abs(vects[-4*unit_edge:, h])**2)\n",
    "        \n",
    "            if weight_l + weight_r > 0.6: edge_e.append(vals[h]), edge_k.append(kx)\n",
    "     \n",
    "                \n",
    "                \n",
    "                \n",
    "                \n",
    "       \n",
    "    \n",
    "    for i in range(4*unit_cells) :   \n",
    "        plt.scatter(kxvals, eigvals[:,i], s=1, c='black');\n",
    "    print(\"edges...\")\n",
    "    for left in range(len(edge_k)):\n",
    "        plt.scatter(edge_k, edge_e, c= \"yellow\", marker = 'x')\n",
    "    \n",
    "    x_label = r\"$k_x$\"\n",
    "    plt.xlabel(x_label)\n",
    "    plt.ylabel(\"Energy\")\n",
    "    strin = \"Energy dispersion along \"+ r\"$k_x$\"\n",
    "    plt.title(strin)\n",
    "    plt.savefig(\"edge.pdf\")\n",
    "    plt.show()\n",
    "interact(plotter, u = (0, 4, 0.1), unit_cells = (4, 200, 2), kres = (5, 400, 5), C = (0, 2, 0.1), unit_edge = (0, 80, 1))"
   ]
  },
  {
   "cell_type": "code",
   "execution_count": null,
   "metadata": {},
   "outputs": [],
   "source": []
  },
  {
   "cell_type": "code",
   "execution_count": null,
   "metadata": {},
   "outputs": [],
   "source": []
  }
 ],
 "metadata": {
  "kernelspec": {
   "display_name": "Python 3",
   "language": "python",
   "name": "python3"
  },
  "language_info": {
   "codemirror_mode": {
    "name": "ipython",
    "version": 3
   },
   "file_extension": ".py",
   "mimetype": "text/x-python",
   "name": "python",
   "nbconvert_exporter": "python",
   "pygments_lexer": "ipython3",
   "version": "3.8.2"
  }
 },
 "nbformat": 4,
 "nbformat_minor": 4
}
