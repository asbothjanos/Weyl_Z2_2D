{
 "cells": [
  {
   "cell_type": "code",
   "execution_count": null,
   "metadata": {},
   "outputs": [],
   "source": []
  },
  {
   "cell_type": "code",
   "execution_count": null,
   "metadata": {
    "scrolled": false
   },
   "outputs": [],
   "source": [
    "'''\n",
    "program to find the nature of dispersion relations around a Weyl point with u = 1 in the BHZ model\n",
    "parameters are res: resolution of whole BZ to find Weyl points\n",
    "divisor: how much to divide BZ lengths by when locally investigating Weyl point (e.g. divisor ~2: almost all BZ is investigated, divisor ~100: only tiny fraction)\n",
    "thetares, rres: polar coordinate resolutions\n",
    "del_res: resolution of the small region of the BZ we are interested in around the Weyl point\n",
    "zoom: zoom into the centre of plot\n",
    "\n",
    "'''"
   ]
  },
  {
   "cell_type": "code",
   "execution_count": 3,
   "metadata": {
    "scrolled": false
   },
   "outputs": [
    {
     "data": {
      "application/vnd.jupyter.widget-view+json": {
       "model_id": "1a80d9d1c2d74595965a5820c614c8e5",
       "version_major": 2,
       "version_minor": 0
      },
      "text/plain": [
       "interactive(children=(IntSlider(value=400, description='res', max=3000, min=2, step=100), IntSlider(value=10, …"
      ]
     },
     "metadata": {},
     "output_type": "display_data"
    },
    {
     "data": {
      "text/plain": [
       "<function __main__.plotter(res=400, divisor=10, thetares=200, rres=6, del_res=400, zoom=1)>"
      ]
     },
     "execution_count": 3,
     "metadata": {},
     "output_type": "execute_result"
    }
   ],
   "source": [
    "import numpy as np\n",
    "import matplotlib.pyplot as plt\n",
    "from matplotlib.pyplot import plot\n",
    "from numpy import cos, sin, exp, min, max\n",
    "from numpy.linalg import eigh\n",
    "from ipywidgets import interact\n",
    "import matplotlib\n",
    "from matplotlib import rcParams\n",
    "from matplotlib.pyplot import figure\n",
    "matplotlib.rcParams.update({'font.size': 14})\n",
    "from scipy.optimize import fsolve\n",
    "\n",
    "pi = np.pi\n",
    "\n",
    "def plotter(res = 400, divisor = 10, thetares = 200, rres = 6, del_res = 400, zoom =1): \n",
    "    \n",
    "    u=1\n",
    "     \n",
    "    #x[0] is C, [1] and [2] are kx and ky\n",
    "    \n",
    "    def det(x): #returns the real and imaginary parts of the determinant of h(k), which we want both to be 0\n",
    "        u=1           \n",
    "        return [2 + (u**2-x[0]**2)+2*u*(cos(x[1])+cos(x[2]))+2*cos(x[1])*cos(x[2]),\n",
    "                u + cos(x[1])+cos(x[2]),\n",
    "                0]\n",
    "\n",
    "    def findweyl():\n",
    "        u_weyl=1\n",
    "        root = fsolve(det, [15, pi/2, pi]) #looks for solutions where det(h(k))=0\n",
    "        print(root)\n",
    "        print(np.isclose(det(root), [0.0, 0.0, 0.0]))\n",
    "        return root\n",
    "     \n",
    "    weyl = findweyl()    #weyl object here is a Weyl point it found\n",
    "    CC = weyl[0]   \n",
    "    kx_crit = weyl[1] #crit refers to the k_x and k_y value where the Weyl point is exactly\n",
    "    ky_crit = weyl[2]\n",
    "    \n",
    "    \n",
    "    \n",
    "    \n",
    "    \n",
    "    kxvals = np.linspace(-pi/divisor, pi/divisor, del_res, endpoint=False) #divisor refers to the fraction of the BZ we are interested in\n",
    "    kyvals = np.linspace(-pi/divisor, pi/divisor, del_res, endpoint=False)\n",
    "    ky, kx = np.meshgrid((kx_crit + kxvals), (ky_crit + kyvals)) #meshgrid around the Weyl point we found\n",
    "\n",
    "    #build up a Hamiltonian around the Weyl point\n",
    "    HH = np.zeros((del_res, del_res, 4, 4), dtype=complex)\n",
    "    HH[:, :, 0, 0] = u+cos(kx)+cos(ky)\n",
    "    HH[:, :, 0, 1] = sin(kx)-1.j*sin(ky)\n",
    "    HH[:, :, 1, 0] =  HH[:, :, 0, 1].conj() \n",
    "    HH[:, :, 1, 1] = -HH[:, :, 0, 0]\n",
    "    HH[:, :, 2, 2] = u+cos(kx)+cos(ky)\n",
    "    HH[:, :, 2, 3] = -sin(kx)-1.j*sin(ky)\n",
    "    HH[:, :, 3, 2] =  HH[:, :, 2, 3].conj() \n",
    "    HH[:, :, 3, 3] = -HH[:, :, 2, 2]\n",
    "    HH[:, :, 0, 3] = -CC\n",
    "    HH[:, :, 1, 2] = -HH[:, :, 0, 3] \n",
    "    HH[:, :, 2, 1] = HH[:, :, 1, 2].conj()\n",
    "    HH[:, :, 3, 0] = HH[:, :, 0, 3].conj()\n",
    "    \n",
    "    es, vects = np.linalg.eigh(HH)   \n",
    "   \n",
    "    thetavals = np.linspace(-pi/zoom, pi/zoom, thetares)\n",
    "    rvals = np.linspace(0, pi/divisor, rres) #thetavals and rvals will be used later to plot the bandgap in these polar coordinates\n",
    "    \n",
    "    gap = np.zeros([thetares, rres])\n",
    "    \n",
    "    \n",
    "    def find_nearest(array, value): #returns the position of array that's elements is closest to the value\n",
    "        array = np.asarray(array)\n",
    "        idx = (np.abs(array - value)).argmin();\n",
    "        return idx;\n",
    "    \n",
    "    thetano = -1\n",
    "    for theta in thetavals:\n",
    "        thetano+=1\n",
    "        \n",
    "        rno = -1\n",
    "        for r in rvals:\n",
    "            rno+=1\n",
    "            kx = cos(theta)*r\n",
    "            ky = sin(theta)*r #converts polars into Cartesians for simplicity\n",
    "            \n",
    "            #index of kx, ky with these values:\n",
    "            kxno = find_nearest(kxvals, kx)\n",
    "            kyno = find_nearest(kyvals, ky)\n",
    "                        \n",
    "            gap[thetano, rno] = (es[kxno, kyno, 2]-es[kxno, kyno, 1]) #fills up gap array2d with differences of the 2nd and 3rd band \n",
    "    parabola = []\n",
    "    \n",
    "    \n",
    "    figure(num=None, figsize=(8, 6), dpi=80)\n",
    "\n",
    "    for r in range(rres):\n",
    "        plt.scatter(thetavals, gap[:, r], label = str(np.round(rvals[r], 3)), s= 1)\n",
    "        parabola.append(min(gap[:, r]))\n",
    "    plt.legend()\n",
    "    x_label = \"Polar angle \" + r\"$\\theta$\"\n",
    "    plt.xlabel(x_label) \n",
    "    plt.title(\"Bandgaps as a function of polar angle for multiple radii\")\n",
    "    plt.ylabel(\"Bandgap\")\n",
    "    plt.savefig(\"bandgap-theta.pdf\")\n",
    "    plt.show()\n",
    "    z = np.polyfit(range(rres), parabola, 5)\n",
    "    plt.scatter(np.log(range(rres)), np.log(parabola))\n",
    "    plt.grid()\n",
    "    plt.title(\"Log-log plot of bandgap vs radius\") #in the direction perpendicular to linear spacing\n",
    "    plt.xlabel(\"log of radius in reciprocal space (arbitrary units)\")\n",
    "    plt.ylabel(\"log of bandgap\")\n",
    "    plt.savefig(\"loglog.pdf\")\n",
    "    print(z)\n",
    "    plt.show()\n",
    "    \n",
    "interact(plotter, res = (2, 3000, 100), divisor = (2, 140, 4), thetares = (10, 1200, 10), rres = (4, 60, 4), del_res=(20, 10000, 20), zoom=(1, 40, 1))\n",
    "\n",
    "\n"
   ]
  },
  {
   "cell_type": "code",
   "execution_count": null,
   "metadata": {},
   "outputs": [],
   "source": []
  },
  {
   "cell_type": "code",
   "execution_count": null,
   "metadata": {},
   "outputs": [],
   "source": []
  },
  {
   "cell_type": "code",
   "execution_count": null,
   "metadata": {},
   "outputs": [],
   "source": []
  }
 ],
 "metadata": {
  "kernelspec": {
   "display_name": "Python 3",
   "language": "python",
   "name": "python3"
  },
  "language_info": {
   "codemirror_mode": {
    "name": "ipython",
    "version": 3
   },
   "file_extension": ".py",
   "mimetype": "text/x-python",
   "name": "python",
   "nbconvert_exporter": "python",
   "pygments_lexer": "ipython3",
   "version": "3.8.2"
  }
 },
 "nbformat": 4,
 "nbformat_minor": 4
}
