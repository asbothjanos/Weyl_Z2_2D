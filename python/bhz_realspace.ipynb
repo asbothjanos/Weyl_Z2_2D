{
 "cells": [
  {
   "cell_type": "code",
   "execution_count": 1,
   "metadata": {},
   "outputs": [
    {
     "name": "stdout",
     "output_type": "stream",
     "text": [
      "Populating the interactive namespace from numpy and matplotlib\n"
     ]
    }
   ],
   "source": [
    "%pylab inline\n",
    "from ipywidgets import interact\n",
    "import numpy.linalg as la\n",
    "sx,sy,sz,s0 = np.array([[0, 1], [1, 0]], dtype=complex) \\\n",
    "    ,np.array([[0, -1.j], [1.j, 0]], dtype=complex)  \\\n",
    "    ,np.array([[1, 0] ,   [0,  -1]], dtype=complex)  \\\n",
    "    ,np.array([[1, 0] ,   [0,   1]], dtype=complex)"
   ]
  },
  {
   "cell_type": "code",
   "execution_count": 3,
   "metadata": {},
   "outputs": [],
   "source": [
    "def p_ip_spectrum(NN=6, mu=1, delta=1., d_mu = 0.2 \\\n",
    "            , print_errors = 1, C=1, d_C = 0, rseed=123):\n",
    "    \"\"\" \n",
    "    Calculate eigenvalues and eigenstates of QWZ in real space.  \n",
    "    Shape of simulated area can be arbitrary.\n",
    "    Include disorder in u and c (u and mu are used interchangeably throughout)\n",
    "\n",
    "    \"\"\"\n",
    "    random.seed(rseed) #for reproducability\n",
    "    \n",
    "    Nx, Ny = 4*NN, 4*NN\n",
    "    y, x = meshgrid(range(Ny), range(Nx))\n",
    "    x, y = x.flatten(), y.flatten() # generate coordinates\n",
    "\n",
    "    delta += 0.j\n",
    "    tx, ty = 1., 1.\n",
    "    mu1 = mu + d_mu*random.randn(Nx*Ny) #introduce disorder into mu/u\n",
    "\n",
    "    #####################################\n",
    "    # Prepare shape of sample, example: circle:\n",
    "    x0, y0 = Nx//2, Ny//2\n",
    "    is_inside = ( ((x-Nx/2)**2 + (y-Ny/2)**2 < (Nx//2-0.1)**2) )\n",
    "    \n",
    "    # plot simulated area:\n",
    "    plotit = False\n",
    "    \n",
    "    if plotit:\n",
    "        plot(x, y, 'o', markeredgecolor='green', markerfacecolor='w', markersize=6)\n",
    "        plot(x[is_inside], y[is_inside], 'b+')\n",
    "        axis('equal');\n",
    "        xlabel('x')\n",
    "        ylabel('y');\n",
    "        show()\n",
    "\n",
    "    # define some helper matrices to be used in Hamiltonian construction:\n",
    "    idx, idy = eye(Nx), eye(Ny)\n",
    "    odx, ody = roll(idx, 1, axis=0), roll(idy, 1, axis=0)\n",
    "    \n",
    "    # 1st construct up->up matrix element: nearest neighbor hopping + onsite chemical potential:\n",
    "    h0 = kron(idx, ody) + kron(odx, idy)\n",
    "   \n",
    "    h0 += h0.T.conj()\n",
    "    h0 += diag(mu1)  #onsite chemical potential, mu is u\n",
    "    #print(\"shape of h0: \", shape(h0))\n",
    "    \n",
    "    # construct down->up matrix element: hopping\n",
    "    dd = delta * (1.j*kron(odx, idy) + kron(idx, ody))  \n",
    "    dd -= dd.T  # because of the i's in the definition\n",
    "    #print(\"dd: \", shape(dd))\n",
    "    \n",
    "    #construct top right coupling matrix for two QWZ layers\n",
    "    C1 = C + d_C*random.randn(Nx*Ny)\n",
    "\n",
    "    cc00 = C1*np.zeros([Nx*Ny, Ny*Nx])\n",
    "    cc01 = -C1*eye(Nx*Ny, Ny*Nx)\n",
    "    cc10 = C1*eye(Nx*Ny, Nx*Ny)\n",
    "    cc11 = C1*np.zeros([Nx*Ny, Ny*Nx])\n",
    "       \n",
    "    # cut region of interest: keep only those that hop into,\n",
    "    #   or out of the region of interest\n",
    "    h0in = h0[:, is_inside][is_inside, :]\n",
    "    ddin = dd[:, is_inside][is_inside, :]\n",
    "        \n",
    "    cc00in = cc00[:, is_inside][is_inside, :]\n",
    "    cc10in = cc10[:, is_inside][is_inside, :]\n",
    "    cc11in = cc11[:, is_inside][is_inside, :]\n",
    "    cc01in = cc01[:, is_inside][is_inside, :]\n",
    "       \n",
    "        \n",
    "    # construct the Hamiltonian from these blocks  (follow general BdG recipe): \n",
    "    HH = concatenate((concatenate((h0in,         ddin),         axis=1), \n",
    "                      concatenate((ddin.conj().T, -h0in.conj()), axis=1)), axis=0)\n",
    "    \n",
    "    \n",
    "    CC = concatenate((concatenate((cc00in,         cc01in),         axis=1), \n",
    "                      concatenate((cc10in, cc11in), axis=1)), axis=0)\n",
    "    #Build up the full hamiltonian:\n",
    "    HH4 = concatenate((concatenate((HH,     CC),         axis=1), \n",
    "                      concatenate((CC.T.conj(), np.conj(HH)), axis=1)), axis=0)\n",
    "    \n",
    "    #print(\"shape of HH: \", shape(HH))\n",
    "    N = shape(HH)[0]//2\n",
    "    SX = np.kron(sx, np.eye(N))\n",
    "    \n",
    "    eee, vvv = eigh(HH4)\n",
    "\n",
    "    return x[is_inside], y[is_inside], eee, vvv #, la.det(UU)\n",
    "\n"
   ]
  },
  {
   "cell_type": "code",
   "execution_count": null,
   "metadata": {},
   "outputs": [],
   "source": []
  },
  {
   "cell_type": "code",
   "execution_count": null,
   "metadata": {
    "scrolled": false
   },
   "outputs": [],
   "source": []
  },
  {
   "cell_type": "code",
   "execution_count": 4,
   "metadata": {},
   "outputs": [
    {
     "data": {
      "application/vnd.jupyter.widget-view+json": {
       "model_id": "a5274ba1138e460e8261173f1a030826",
       "version_major": 2,
       "version_minor": 0
      },
      "text/plain": [
       "interactive(children=(FloatSlider(value=0.0, description='ee', max=2.0, min=-2.0), FloatSlider(value=0.05, des…"
      ]
     },
     "metadata": {},
     "output_type": "display_data"
    },
    {
     "data": {
      "text/plain": [
       "<function __main__.play(ee=0, zero_energy=0.05, d_mu=0.0, d_C=0.0, C=1, u=0, rseed=124)>"
      ]
     },
     "execution_count": 4,
     "metadata": {},
     "output_type": "execute_result"
    }
   ],
   "source": [
    "'''\n",
    "main function that calls p_ip_spectrum\n",
    "'''\n",
    "def play(ee=0, zero_energy = 0.05, d_mu=0., d_C = 0., C=1, u=0, rseed=124):\n",
    "    \n",
    "    x1, y1, eee, vvv = p_ip_spectrum(NN=4, mu=u, delta=1., d_mu = d_mu, \\\n",
    "                                     rseed=rseed, print_errors = 1, d_C = d_C, C=C)\n",
    "    \n",
    "    N = len(eee)//2\n",
    "    size_pref = len(eee) #basis size for plotting edge localization degree\n",
    "    show()\n",
    "    fig,ax = subplots(1, 2, figsize = (12, 6) \\\n",
    "                     , gridspec_kw={'width_ratios': [1, 3]} )\n",
    "    ax[0].plot(eee, \"k.\")\n",
    "    \n",
    "\n",
    "    print(shape(eee))\n",
    "    print(shape(vvv))\n",
    "    \n",
    "    print(shape(eee))\n",
    "    eps=1e-15\n",
    "       \n",
    "    \n",
    "    \n",
    "    wA = np.zeros(N//2) #weight of edge states in position space\n",
    "    wB = np.zeros_like(wA)\n",
    "    \n",
    "    #calculate and print some defining energy levels\n",
    "    tenth_energy = np.partition(abs(eee), 9)[9]\n",
    "    twentieth_energy = np.partition(abs(eee), 19)[19] #twentieth smallerst energy\n",
    "    fifty_energy = np.partition(abs(eee), 49)[49]\n",
    "    print(\"ten smallest:\", tenth_energy)\n",
    "    print(\"twenty smallest:\", twentieth_energy)\n",
    "    print(\"fifty smallest:\", fifty_energy)\n",
    "    largest_energy = np.partition(abs(eee), len(eee)-1)[len(eee)-1] #largest energy\n",
    "    print(\"largest: \", largest_energy)\n",
    "    \n",
    "    \n",
    "    totalA = np.zeros([len(x1), len(y1)])\n",
    "    \n",
    "    #calculate support on position coordinates for zero energy states\n",
    "    for ii in range(len(eee)):\n",
    "        if abs(eee[ii]-ee)<zero_energy: #check zero energy; by zero we mean smaller than zero_energy\n",
    "            #can also modify ee to replace centering on 0 energy with centering on ee with radius still zero_energy\n",
    "            wA += 1/2*np.abs(vvv[:N//2, ii]-1.j*vvv[-N//2:, ii])**2 + 1/2*np.abs(vvv[N//2:N, ii]-1.j*vvv[N:(3*N)//2:, ii])**2\n",
    "            wB += 1/2*np.abs(vvv[:N//2, ii]+1.j*vvv[-N//2:, ii])**2 + 1/2*np.abs(vvv[N//2:N, ii]+1.j*vvv[N:(3*N)//2:, ii])**2\n",
    "            ax[0].plot(ii, eee[ii], \"ro\")\n",
    "    #col_obj sets the colour at the given real-space site and is proportional to the difference between support on either site\n",
    "    #this means that a color corresponding to zero means equal support on both sublattices (sublattice here means whether the\n",
    "    #eigenvalue of the chiral operator is +1 or -1) \n",
    "    col_obj = (wA-wB)/(wA+wB+eps)\n",
    "    map_wf = ax[1].scatter(x1, y1, s=size_pref*(wA + wB), vmin=-1, vmax=1, c = col_obj, marker='s' )\n",
    "    #ax.matshow()\n",
    "    colorbar(map_wf, ax=ax[1])\n",
    "    ax[1].axis('equal')\n",
    "    ax[1].set_xlabel('x')\n",
    "    ax[1].set_ylabel('y')\n",
    "    plt.savefig(\"realspace bhz.pdf\")\n",
    "    show()\n",
    "   \n",
    "\n",
    "    \n",
    "interact(play, ee=(-2, 2, 0.1) , zero_energy=(0, 2, 0.01), d_mu = (0, 2, 0.01), \\\n",
    "         rseed=(0,200,1), C= (0, 1, 0.01), u =(-2.5, 2.5, 0.01))\n"
   ]
  },
  {
   "cell_type": "code",
   "execution_count": null,
   "metadata": {},
   "outputs": [],
   "source": []
  },
  {
   "cell_type": "code",
   "execution_count": null,
   "metadata": {},
   "outputs": [],
   "source": []
  }
 ],
 "metadata": {
  "kernelspec": {
   "display_name": "Python 3",
   "language": "python",
   "name": "python3"
  },
  "language_info": {
   "codemirror_mode": {
    "name": "ipython",
    "version": 3
   },
   "file_extension": ".py",
   "mimetype": "text/x-python",
   "name": "python",
   "nbconvert_exporter": "python",
   "pygments_lexer": "ipython3",
   "version": "3.8.2"
  }
 },
 "nbformat": 4,
 "nbformat_minor": 4
}
